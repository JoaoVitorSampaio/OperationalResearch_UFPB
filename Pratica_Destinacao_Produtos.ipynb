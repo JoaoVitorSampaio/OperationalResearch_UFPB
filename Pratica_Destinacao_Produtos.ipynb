{
  "cells": [
    {
      "cell_type": "markdown",
      "metadata": {
        "id": "view-in-github",
        "colab_type": "text"
      },
      "source": [
        "<a href=\"https://colab.research.google.com/github/JoaoVitorSampaio/OperationalResearch_UFPB/blob/main/Pratica_Destinacao_Produtos.ipynb\" target=\"_parent\"><img src=\"https://colab.research.google.com/assets/colab-badge.svg\" alt=\"Open In Colab\"/></a>"
      ]
    },
    {
      "cell_type": "markdown",
      "metadata": {
        "id": "qDPM4byI4rXz"
      },
      "source": [
        "# Aula prática: Destinação de Produtos à Fabricas\n",
        "<sup>Exemplo do capítulo 8.3 do livro `Introdução à Pesquisa Operacional` de `Hillier e Lieberman`.</sup>"
      ]
    },
    {
      "cell_type": "markdown",
      "metadata": {
        "id": "17Ur_xiu43Om"
      },
      "source": [
        "## Exercício 1"
      ]
    },
    {
      "cell_type": "markdown",
      "metadata": {
        "id": "S_ECUHr85U0V"
      },
      "source": [
        "### Descrição do problema\n",
        "A Cia. Produtos Melhores decidiu iniciar a produção de quatro produtos novos usando três fábricas que, no momento, têm excesso de capacidade produtiva. Os produtos requerem um esforço de produção comparável por unidade, de modo que a capacidade produtiva disponível das fábricas seja medida pelo número de unidades de qualquer produto que possa ser produzido diariamente, conforme dado na tabela 1. A tabela 2 fornece a taxa de produção diária necessária para atender às vendas projetadas. Cada fábrica é capaz de produzir qualquer um desses produtos, exceto a Fábrica 2, que não pode fabricar o produto 3. Os custos variáveis por unidade de cada produto diferem de fábrica para fábrica, conforme a tabela 3.\n",
        "\n",
        "Tabela 1: Capacidade de produção disponível, por unidade do produto\n",
        "\n",
        "| | Fábrica 1 | Fábrica 2 | Fábrica 3 |\n",
        "|:---|:---:|:---:|:---:|\n",
        "| Capacidade disponível | 75 | 75 | 45 |\n",
        "\n",
        "Tabela 2: Demanda de produção diária\n",
        "\n",
        "| | Produto 1 | Produto 2 | Produto 3 | Produto 4 |\n",
        "|:---|:---:|:---:|:---:|:---:|\n",
        "| Demanda | 20 | 30 | 30 | 40 |\n",
        "\n",
        "Tabela 3: Custo unitário por produto\n",
        "\n",
        "| | Produto 1 | Produto 2 | Produto 3 | Produto 4 |\n",
        "|:---|:---:|:---:|:---:|:---:|\n",
        "| Fábrica 1 | 41 | 27 | 28 | 24 |\n",
        "| Fábrica 2 | 40 | 29 | - | 23 |\n",
        "| Fábrica 3 | 37 | 30 | 27 | 21 |\n",
        "\n",
        "A gerência precisa tomar uma decisão sobre como dividir a fabricação dos produtos entre as fábricas, e decidiu permitir a divisão da produção de um mesmo produto em mais de uma fábrica.\n",
        "\n",
        "Escreva um modelo para determinar quais fábricas produzirão quais produtos e a que custo total."
      ]
    },
    {
      "cell_type": "markdown",
      "metadata": {
        "id": "r0sGHJD97MIz"
      },
      "source": [
        "### Resolução"
      ]
    },
    {
      "cell_type": "code",
      "execution_count": null,
      "metadata": {
        "id": "Fm0Dc8uR7Qsz",
        "outputId": "f1073e82-40ac-4ae9-c3a4-bb650aa742d0",
        "colab": {
          "base_uri": "https://localhost:8080/"
        }
      },
      "outputs": [
        {
          "output_type": "stream",
          "name": "stdout",
          "text": [
            "Collecting mip\n",
            "  Downloading mip-1.15.0-py3-none-any.whl.metadata (21 kB)\n",
            "Collecting cffi==1.15.* (from mip)\n",
            "  Downloading cffi-1.15.1-cp311-cp311-manylinux_2_17_x86_64.manylinux2014_x86_64.whl.metadata (1.1 kB)\n",
            "Requirement already satisfied: pycparser in /usr/local/lib/python3.11/dist-packages (from cffi==1.15.*->mip) (2.22)\n",
            "Downloading mip-1.15.0-py3-none-any.whl (15.3 MB)\n",
            "\u001b[2K   \u001b[90m━━━━━━━━━━━━━━━━━━━━━━━━━━━━━━━━━━━━━━━━\u001b[0m \u001b[32m15.3/15.3 MB\u001b[0m \u001b[31m72.6 MB/s\u001b[0m eta \u001b[36m0:00:00\u001b[0m\n",
            "\u001b[?25hDownloading cffi-1.15.1-cp311-cp311-manylinux_2_17_x86_64.manylinux2014_x86_64.whl (462 kB)\n",
            "\u001b[2K   \u001b[90m━━━━━━━━━━━━━━━━━━━━━━━━━━━━━━━━━━━━━━━━\u001b[0m \u001b[32m462.6/462.6 kB\u001b[0m \u001b[31m28.3 MB/s\u001b[0m eta \u001b[36m0:00:00\u001b[0m\n",
            "\u001b[?25hInstalling collected packages: cffi, mip\n",
            "  Attempting uninstall: cffi\n",
            "    Found existing installation: cffi 1.17.1\n",
            "    Uninstalling cffi-1.17.1:\n",
            "      Successfully uninstalled cffi-1.17.1\n",
            "\u001b[31mERROR: pip's dependency resolver does not currently take into account all the packages that are installed. This behaviour is the source of the following dependency conflicts.\n",
            "pygit2 1.18.0 requires cffi>=1.17.0, but you have cffi 1.15.1 which is incompatible.\u001b[0m\u001b[31m\n",
            "\u001b[0mSuccessfully installed cffi-1.15.1 mip-1.15.0\n"
          ]
        }
      ],
      "source": [
        "# instalação e importação do pacote mip\n",
        "!pip install mip\n",
        "from mip import *\n",
        "\n",
        "# funcões usadas posteriormente:\n",
        "\n",
        "# resolve o modelo e mostra os valores das variáveis\n",
        "def solve(model):\n",
        "  status = model.optimize()\n",
        "\n",
        "  print(\"Status = \", status)\n",
        "  print(f\"Solution value  = {model.objective_value:.2f}\\n\")\n",
        "\n",
        "  print(\"Solution:\")\n",
        "  for v in model.vars:\n",
        "      print(f\"{v.name} = {v.x:.2f}\")\n",
        "\n",
        "\n",
        "# salva modelo em arquivo lp, e mostra o conteúdo\n",
        "def save(model, filename):\n",
        "  model.write(filename) # salva modelo em arquivo\n",
        "  with open(filename, \"r\") as f: # lê e exibe conteúdo do arquivo\n",
        "    print(f.read())"
      ]
    },
    {
      "cell_type": "code",
      "execution_count": null,
      "metadata": {
        "id": "jP4fukpK7X1h",
        "colab": {
          "base_uri": "https://localhost:8080/"
        },
        "outputId": "e3cc1b20-abf6-4144-a4f0-7b32d0e8ab78"
      },
      "outputs": [
        {
          "output_type": "stream",
          "name": "stdout",
          "text": [
            "\\Problem name: \n",
            "\n",
            "Minimize\n",
            "OBJROW: 41 x_11 + 27 x_12 + 28 x_13 + 24 x_14 + 40 x_21 + 29 x_22 + 23 x_24 + 37 x_31 + 30 x_32 + 27 x_33\n",
            " + 21 x_34\n",
            "Subject To\n",
            "constr(0):  x_11 + x_21 + x_31 >= 20\n",
            "constr(1):  x_12 + x_22 + x_32 >= 30\n",
            "constr(2):  x_13 + x_33 >= 30\n",
            "constr(3):  x_14 + x_24 + x_34 >= 40\n",
            "constr(4):  x_11 + x_12 + x_13 + x_14 <= 75\n",
            "constr(5):  x_21 + x_22 + x_24 <= 75\n",
            "constr(6):  x_31 + x_32 + x_33 + x_34 <= 45\n",
            "Bounds\n",
            "End\n",
            "\n"
          ]
        }
      ],
      "source": [
        "# Matriz de Custos\n",
        "custo = [[41, 27, 28, 24],  # F1-P1, F1-P2, F1-P3, F1-P4\n",
        "         [40, 29, 0, 23],  # F2-P1, F2-P2, F2-P3, F2-P4\n",
        "         [37, 30, 27, 21]]  # F3-P1, F3-P2, F3-P3, F2-P4\n",
        "\n",
        "# Número de funcionários e de tarefas\n",
        "n_fab = 3\n",
        "n_prod = 4\n",
        "\n",
        "\n",
        "model = Model(sense=MINIMIZE, solver_name=CBC)\n",
        "\n",
        "x = [[model.add_var(var_type=\"INTEGER\", name = f\"x_{i+1}{j+1}\") for j in range(n_prod)]\n",
        "            for i in range(n_fab)]\n",
        "\n",
        "model.objective = custo[0][0]*x[0][0] + custo[0][1]*x[0][1] + custo[0][2]*x[0][2] + custo[0][3]*x[0][3] + \\\n",
        "                    custo[1][0]*x[1][0] + custo[1][1]*x[1][1] + custo[1][3]*x[1][3]+ \\\n",
        "                    custo[2][0]*x[2][0] + custo[2][1]*x[2][1] + custo[2][2]*x[2][2] + custo[2][3]*x[2][3]\n",
        "\n",
        "#Restrições\n",
        "\n",
        "#Demanda\n",
        "model += x[0][0] + x[1][0] + x[2][0] >= 20\n",
        "model += x[0][1] + x[1][1] + x[2][1] >= 30\n",
        "model += x[0][2] + x[2][2] >= 30\n",
        "model += x[0][3] + x[1][3] + x[2][3] >= 40\n",
        "\n",
        "#Capacidade\n",
        "model += x[0][0] + x[0][1] + x[0][2] + x[0][3] <= 75\n",
        "model += x[1][0] + x[1][1] + x[1][3] <= 75\n",
        "model += x[2][0] + x[2][1] + x[2][2] + x[2][3] <= 45\n",
        "\n",
        "save(model, \"model.lp\")"
      ]
    },
    {
      "cell_type": "code",
      "execution_count": null,
      "metadata": {
        "id": "hHo6N8Pw7Zpf",
        "colab": {
          "base_uri": "https://localhost:8080/"
        },
        "outputId": "6dcd3a0b-cdcf-435d-f08d-724fee190d17"
      },
      "outputs": [
        {
          "output_type": "stream",
          "name": "stdout",
          "text": [
            "Status =  OptimizationStatus.OPTIMAL\n",
            "Solution value  = 3260.00\n",
            "\n",
            "Solution:\n",
            "x_11 = 0.00\n",
            "x_12 = 30.00\n",
            "x_13 = 30.00\n",
            "x_14 = 0.00\n",
            "x_21 = 0.00\n",
            "x_22 = 0.00\n",
            "x_23 = 0.00\n",
            "x_24 = 15.00\n",
            "x_31 = 20.00\n",
            "x_32 = 0.00\n",
            "x_33 = 0.00\n",
            "x_34 = 25.00\n"
          ]
        }
      ],
      "source": [
        "solve(model)"
      ]
    },
    {
      "cell_type": "markdown",
      "metadata": {
        "id": "aMs1wHIugRae"
      },
      "source": [
        "## Exercício 2\n",
        "\n",
        "Refaça o modelo anterior, dessa vez impedindo a divisão de produtos entre fábricas. Ou seja, cada produto deve ser integralmente produzido em uma única fábrica, para eliminar custos ocultos associados à divisão da produção. A cada fábrica deve ser destinado pelo menos um produto."
      ]
    },
    {
      "cell_type": "markdown",
      "metadata": {
        "id": "gKJj1JLUgRag"
      },
      "source": [
        "### Resolução"
      ]
    },
    {
      "cell_type": "code",
      "execution_count": 15,
      "metadata": {
        "id": "92okSArZgRah",
        "colab": {
          "base_uri": "https://localhost:8080/"
        },
        "outputId": "271439f2-4cfa-4bc9-d7f9-d3ec227b6d5a"
      },
      "outputs": [
        {
          "output_type": "stream",
          "name": "stdout",
          "text": [
            "\\Problem name: \n",
            "\n",
            "Minimize\n",
            "OBJROW: 820 x_11 + 810 x_12 + 840 x_13 + 960 x_14 + 800 x_21 + 870 x_22 + 920 x_24 + 740 x_31 + 900 x_32 + 810 x_33\n",
            " + 840 x_34\n",
            "Subject To\n",
            "constr(0):  x_11 + x_21 + x_31 = 1\n",
            "constr(1):  x_12 + x_22 + x_32 = 1\n",
            "constr(2):  x_13 + x_33 = 1\n",
            "constr(3):  x_14 + x_24 + x_34 = 1\n",
            "constr(4):  x_11 + x_12 + x_13 + x_14 >= 1\n",
            "constr(5):  x_21 + x_22 + x_24 >= 1\n",
            "constr(6):  x_31 + x_32 + x_33 + x_34 >= 1\n",
            "constr(7):  20 x_11 + 30 x_12 + 30 x_13 + 40 x_14 <= 75\n",
            "constr(8):  20 x_21 + 30 x_22 + 30 x_24 <= 75\n",
            "constr(9):  20 x_31 + 30 x_32 + 30 x_33 + 40 x_34 <= 45\n",
            "Bounds\n",
            " 0 <= x_11 <= 1\n",
            " 0 <= x_12 <= 1\n",
            " 0 <= x_13 <= 1\n",
            " 0 <= x_14 <= 1\n",
            " 0 <= x_21 <= 1\n",
            " 0 <= x_22 <= 1\n",
            " 0 <= x_23 <= 1\n",
            " 0 <= x_24 <= 1\n",
            " 0 <= x_31 <= 1\n",
            " 0 <= x_32 <= 1\n",
            " 0 <= x_33 <= 1\n",
            " 0 <= x_34 <= 1\n",
            "Integers\n",
            "x_11 x_12 x_13 x_14 x_21 x_22 x_23 x_24 x_31 x_32 \n",
            "x_33 x_34 \n",
            "End\n",
            "\n"
          ]
        }
      ],
      "source": [
        "# Matriz de Custos\n",
        "custo = [[820, 810, 840, 960],  # F1P1*demanda, F1P2*demanda, F1P3*demanda, F1P4*demanda\n",
        "         [800, 870, 0, 920],  # F2P1*demanda, F2P2*demanda, F2P3*demanda, F2P4*demanda\n",
        "         [740, 900, 810, 840]]  # F3P1*demanda, F3P2*demanda, F3P3*demanda, F2P4*demanda\n",
        "\n",
        "# Número de fábricas e de produtos\n",
        "n_fab = 3\n",
        "n_prod = 4\n",
        "\n",
        "\n",
        "model = Model(sense=MINIMIZE, solver_name=CBC)\n",
        "\n",
        "x = [[model.add_var(var_type=BINARY, name = f\"x_{i+1}{j+1}\") for j in range(n_prod)]\n",
        "            for i in range(n_fab)]\n",
        "\n",
        "model.objective = custo[0][0]*x[0][0] + custo[0][1]*x[0][1] + custo[0][2]*x[0][2] + custo[0][3]*x[0][3] + \\\n",
        "                    custo[1][0]*x[1][0] + custo[1][1]*x[1][1] + custo[1][3]*x[1][3]+ \\\n",
        "                    custo[2][0]*x[2][0] + custo[2][1]*x[2][1] + custo[2][2]*x[2][2] + custo[2][3]*x[2][3]\n",
        "\n",
        "#Restrições\n",
        "\n",
        "#Não divisão da produção\n",
        "model += x[0][0] + x[1][0] + x[2][0] == 1\n",
        "model += x[0][1] + x[1][1] + x[2][1] == 1\n",
        "model += x[0][2] + x[2][2] == 1\n",
        "model += x[0][3] + x[1][3] + x[2][3] == 1\n",
        "\n",
        "#Produção por fábrica\n",
        "model += x[0][0] + x[0][1] + x[0][2] + x[0][3] >= 1\n",
        "model += x[1][0] + x[1][1] + x[1][3] >= 1\n",
        "model += x[2][0] + x[2][1] + x[2][2] + x[2][3] >= 1\n",
        "\n",
        "#Capacidade\n",
        "model += 20*x[0][0] + 30*x[0][1] + 30*x[0][2] + 40*x[0][3] <= 75\n",
        "model += 20*x[1][0] + 30*x[1][1] + 30*x[1][3] <= 75\n",
        "model += 20*x[2][0] + 30*x[2][1] + 30*x[2][2] + 40*x[2][3] <= 45\n",
        "\n",
        "save(model, \"model.lp\")"
      ]
    },
    {
      "cell_type": "code",
      "execution_count": 16,
      "metadata": {
        "id": "D0hi2a4UgRai",
        "colab": {
          "base_uri": "https://localhost:8080/"
        },
        "outputId": "a113d2db-669c-46bd-f045-3a67b8e57a83"
      },
      "outputs": [
        {
          "output_type": "stream",
          "name": "stdout",
          "text": [
            "Status =  OptimizationStatus.OPTIMAL\n",
            "Solution value  = 3290.00\n",
            "\n",
            "Solution:\n",
            "x_11 = 0.00\n",
            "x_12 = 1.00\n",
            "x_13 = 1.00\n",
            "x_14 = 0.00\n",
            "x_21 = 1.00\n",
            "x_22 = 0.00\n",
            "x_23 = 0.00\n",
            "x_24 = 0.00\n",
            "x_31 = 0.00\n",
            "x_32 = 0.00\n",
            "x_33 = 0.00\n",
            "x_34 = 1.00\n"
          ]
        }
      ],
      "source": [
        "solve(model)"
      ]
    }
  ],
  "metadata": {
    "colab": {
      "provenance": [],
      "include_colab_link": true
    },
    "kernelspec": {
      "display_name": "Python 3",
      "name": "python3"
    },
    "language_info": {
      "codemirror_mode": {
        "name": "ipython",
        "version": 3
      },
      "file_extension": ".py",
      "mimetype": "text/x-python",
      "name": "python",
      "nbconvert_exporter": "python",
      "pygments_lexer": "ipython3",
      "version": "3.8.10"
    }
  },
  "nbformat": 4,
  "nbformat_minor": 0
}