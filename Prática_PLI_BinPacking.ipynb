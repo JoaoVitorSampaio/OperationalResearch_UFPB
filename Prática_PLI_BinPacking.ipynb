{
  "nbformat": 4,
  "nbformat_minor": 0,
  "metadata": {
    "colab": {
      "provenance": [],
      "collapsed_sections": [
        "18u4P6_fjHTa"
      ],
      "include_colab_link": true
    },
    "kernelspec": {
      "name": "python3",
      "display_name": "Python 3"
    },
    "language_info": {
      "name": "python"
    }
  },
  "cells": [
    {
      "cell_type": "markdown",
      "metadata": {
        "id": "view-in-github",
        "colab_type": "text"
      },
      "source": [
        "<a href=\"https://colab.research.google.com/github/JoaoVitorSampaio/OperationalResearch_UFPB/blob/main/Pr%C3%A1tica_PLI_BinPacking.ipynb\" target=\"_parent\"><img src=\"https://colab.research.google.com/assets/colab-badge.svg\" alt=\"Open In Colab\"/></a>"
      ]
    },
    {
      "cell_type": "markdown",
      "source": [
        "# Aula prática: Bin Packing\n"
      ],
      "metadata": {
        "id": "KkkfGB7mizn4"
      }
    },
    {
      "cell_type": "markdown",
      "source": [
        "## Exercício 1\n"
      ],
      "metadata": {
        "id": "6Pq0qYFUi66C"
      }
    },
    {
      "cell_type": "markdown",
      "source": [
        "### Descrição do problema\n",
        "Uma faculdade quer agendar as provas de 6 disciplinas. Existe uma regra que proíbe que o mesmo aluno tenha que fazer mais de uma prova por dia. A tabela abaixo mostra quais alunos (identificados por números) vão fazer a prova de cada disciplina. Por exemplo, A e B não podem ser agendadas no mesmo dia por causa do aluno 1. Já B e C poderiam ser agendadas no mesmo dia, pois nenhum aluno vai fazer essas duas provas.\n",
        "\n",
        "| Disciplina | Alunos |\n",
        "|:---:|:---:|\n",
        "| A | 1, 2, 3, 4 |\n",
        "| B | 1, 5 |\n",
        "| C | 3, 6, 7 |\n",
        "| D | 5, 7 |\n",
        "| E | 2, 7 |\n",
        "| F | 4, 5 |\n",
        "\n",
        "Crie um modelo de PLI para agendar essas provas no menor número de dias possível.\n",
        "**Dica: baseie-se no modelo do problema de empacotamento de caixas.**\n"
      ],
      "metadata": {
        "id": "18u4P6_fjHTa"
      }
    },
    {
      "cell_type": "markdown",
      "source": [
        "### Resolução"
      ],
      "metadata": {
        "id": "EW2_LyQlkB9Y"
      }
    },
    {
      "cell_type": "code",
      "execution_count": null,
      "metadata": {
        "colab": {
          "base_uri": "https://localhost:8080/"
        },
        "id": "UToKjaulioTm",
        "outputId": "f5105b9e-93a2-40e5-ba56-7bc34f22f266"
      },
      "outputs": [
        {
          "output_type": "stream",
          "name": "stdout",
          "text": [
            "Looking in indexes: https://pypi.org/simple, https://us-python.pkg.dev/colab-wheels/public/simple/\n",
            "Requirement already satisfied: mip in /usr/local/lib/python3.7/dist-packages (1.14.1)\n",
            "Requirement already satisfied: cffi==1.15.0 in /usr/local/lib/python3.7/dist-packages (from mip) (1.15.0)\n",
            "Requirement already satisfied: pycparser in /usr/local/lib/python3.7/dist-packages (from cffi==1.15.0->mip) (2.21)\n"
          ]
        }
      ],
      "source": [
        "# instalação e importação do pacote mip\n",
        "!pip install mip\n",
        "from mip import *"
      ]
    },
    {
      "cell_type": "markdown",
      "source": [
        "#### Dados\n",
        "$A = \\{1, 2, 3, 4, 5, 6, 7\\}$: conjunto de alunos \\\\\n",
        "$D = \\{1, 2, 3, 4, 5, 6\\}$: conjunto de dias em que é possível alocar provas \\\\\n",
        "$M = \\{A, B, C, D, E, F\\}$: conjunto de disciplinas \\\\\n",
        "$M_a$: conjunto de disciplinas que o aluno $a$ irá fazer prova \\\\"
      ],
      "metadata": {
        "id": "vIN07gHAkNHQ"
      }
    },
    {
      "cell_type": "code",
      "source": [
        "A = range(1, 8)\n",
        "D = range(1, 7)\n",
        "M = ['A', 'B', 'C', 'D', 'E', 'F']\n",
        "Ma = {1: ['A', 'B'], 2: ['A', 'E'], 3: ['A', 'C'], 4: ['A', 'F'], 5: ['B', 'D', 'F'], 6: ['C'], 7: ['C', 'D', 'E']}\n"
      ],
      "metadata": {
        "id": "wlFt3_isodpp"
      },
      "execution_count": null,
      "outputs": []
    },
    {
      "cell_type": "markdown",
      "source": [
        "#### Variável\n",
        "$x_{dm}$ = 1 se a prova da disciplina $m$ acontecerá no dia $d$, 0 c.c.  \\\\\n",
        "$y_d$ = 1 se haverá alguma prova no dia $d$, 0 c.c.\n",
        "\n",
        "#### Modelo\n",
        "\n",
        "$$\\min \\sum_{d \\in D} y_d$$\n",
        "s.t.\n",
        "$$\\sum_{d \\in D} x_{dm} = 1; \\forall m \\in M$$\n",
        "$$\\sum_{m \\in M_a} x_{dm} \\leq y_d ; \\forall d \\in D; \\forall a \\in A$$\n",
        "$$x \\text{ e } y \\text{ binários}$$\n"
      ],
      "metadata": {
        "id": "q58nZ4IJoY__"
      }
    },
    {
      "cell_type": "code",
      "source": [
        "model = Model(sense=MINIMIZE, solver_name=CBC)\n",
        "\n",
        "x = {d: {m: model.add_var(var_type=BINARY, name=f\"x_{d}_{m}\") for m in M} for d in D}\n",
        "y = {d: model.add_var(var_type=BINARY, name=f\"y_{d}\") for d in D}\n",
        "\n",
        "model.objective = xsum(y[d] for d in D)\n",
        "\n",
        "for m in M:\n",
        "    model += xsum(x[d][m] for d in D) == 1\n",
        "\n",
        "for d in D:\n",
        "  for a in A:\n",
        "    model += xsum(x[d][m] for m in Ma[a]) <= y[d]\n",
        "\n",
        "# salva modelo em arquivo lp, e mostra o conteúdo\n",
        "model.write(\"model.lp\") # salva modelo em arquivo\n",
        "with open(\"model.lp\", \"r\") as f: # lê e exibe conteúdo do arquivo\n",
        "  print(f.read())"
      ],
      "metadata": {
        "colab": {
          "base_uri": "https://localhost:8080/"
        },
        "id": "zL3qpuLbkFDK",
        "outputId": "1246d8ea-ded1-4f3c-c947-cda98f2761b7"
      },
      "execution_count": null,
      "outputs": [
        {
          "output_type": "stream",
          "name": "stdout",
          "text": [
            "\\Problem name: \n",
            "\n",
            "Minimize\n",
            "OBJROW: y_1 + y_2 + y_3 + y_4 + y_5 + y_6\n",
            "Subject To\n",
            "constr(0):  x_1_A + x_2_A + x_3_A + x_4_A + x_5_A + x_6_A = 1\n",
            "constr(1):  x_1_B + x_2_B + x_3_B + x_4_B + x_5_B + x_6_B = 1\n",
            "constr(2):  x_1_C + x_2_C + x_3_C + x_4_C + x_5_C + x_6_C = 1\n",
            "constr(3):  x_1_D + x_2_D + x_3_D + x_4_D + x_5_D + x_6_D = 1\n",
            "constr(4):  x_1_E + x_2_E + x_3_E + x_4_E + x_5_E + x_6_E = 1\n",
            "constr(5):  x_1_F + x_2_F + x_3_F + x_4_F + x_5_F + x_6_F = 1\n",
            "constr(6):  x_1_A + x_1_B - y_1 <= -0\n",
            "constr(7):  x_1_A + x_1_E - y_1 <= -0\n",
            "constr(8):  x_1_A + x_1_C - y_1 <= -0\n",
            "constr(9):  x_1_A + x_1_F - y_1 <= -0\n",
            "constr(10):  x_1_B + x_1_D + x_1_F - y_1 <= -0\n",
            "constr(11):  x_1_C - y_1 <= -0\n",
            "constr(12):  x_1_C + x_1_D + x_1_E - y_1 <= -0\n",
            "constr(13):  x_2_A + x_2_B - y_2 <= -0\n",
            "constr(14):  x_2_A + x_2_E - y_2 <= -0\n",
            "constr(15):  x_2_A + x_2_C - y_2 <= -0\n",
            "constr(16):  x_2_A + x_2_F - y_2 <= -0\n",
            "constr(17):  x_2_B + x_2_D + x_2_F - y_2 <= -0\n",
            "constr(18):  x_2_C - y_2 <= -0\n",
            "constr(19):  x_2_C + x_2_D + x_2_E - y_2 <= -0\n",
            "constr(20):  x_3_A + x_3_B - y_3 <= -0\n",
            "constr(21):  x_3_A + x_3_E - y_3 <= -0\n",
            "constr(22):  x_3_A + x_3_C - y_3 <= -0\n",
            "constr(23):  x_3_A + x_3_F - y_3 <= -0\n",
            "constr(24):  x_3_B + x_3_D + x_3_F - y_3 <= -0\n",
            "constr(25):  x_3_C - y_3 <= -0\n",
            "constr(26):  x_3_C + x_3_D + x_3_E - y_3 <= -0\n",
            "constr(27):  x_4_A + x_4_B - y_4 <= -0\n",
            "constr(28):  x_4_A + x_4_E - y_4 <= -0\n",
            "constr(29):  x_4_A + x_4_C - y_4 <= -0\n",
            "constr(30):  x_4_A + x_4_F - y_4 <= -0\n",
            "constr(31):  x_4_B + x_4_D + x_4_F - y_4 <= -0\n",
            "constr(32):  x_4_C - y_4 <= -0\n",
            "constr(33):  x_4_C + x_4_D + x_4_E - y_4 <= -0\n",
            "constr(34):  x_5_A + x_5_B - y_5 <= -0\n",
            "constr(35):  x_5_A + x_5_E - y_5 <= -0\n",
            "constr(36):  x_5_A + x_5_C - y_5 <= -0\n",
            "constr(37):  x_5_A + x_5_F - y_5 <= -0\n",
            "constr(38):  x_5_B + x_5_D + x_5_F - y_5 <= -0\n",
            "constr(39):  x_5_C - y_5 <= -0\n",
            "constr(40):  x_5_C + x_5_D + x_5_E - y_5 <= -0\n",
            "constr(41):  x_6_A + x_6_B - y_6 <= -0\n",
            "constr(42):  x_6_A + x_6_E - y_6 <= -0\n",
            "constr(43):  x_6_A + x_6_C - y_6 <= -0\n",
            "constr(44):  x_6_A + x_6_F - y_6 <= -0\n",
            "constr(45):  x_6_B + x_6_D + x_6_F - y_6 <= -0\n",
            "constr(46):  x_6_C - y_6 <= -0\n",
            "constr(47):  x_6_C + x_6_D + x_6_E - y_6 <= -0\n",
            "Bounds\n",
            " 0 <= x_1_A <= 1\n",
            " 0 <= x_1_B <= 1\n",
            " 0 <= x_1_C <= 1\n",
            " 0 <= x_1_D <= 1\n",
            " 0 <= x_1_E <= 1\n",
            " 0 <= x_1_F <= 1\n",
            " 0 <= x_2_A <= 1\n",
            " 0 <= x_2_B <= 1\n",
            " 0 <= x_2_C <= 1\n",
            " 0 <= x_2_D <= 1\n",
            " 0 <= x_2_E <= 1\n",
            " 0 <= x_2_F <= 1\n",
            " 0 <= x_3_A <= 1\n",
            " 0 <= x_3_B <= 1\n",
            " 0 <= x_3_C <= 1\n",
            " 0 <= x_3_D <= 1\n",
            " 0 <= x_3_E <= 1\n",
            " 0 <= x_3_F <= 1\n",
            " 0 <= x_4_A <= 1\n",
            " 0 <= x_4_B <= 1\n",
            " 0 <= x_4_C <= 1\n",
            " 0 <= x_4_D <= 1\n",
            " 0 <= x_4_E <= 1\n",
            " 0 <= x_4_F <= 1\n",
            " 0 <= x_5_A <= 1\n",
            " 0 <= x_5_B <= 1\n",
            " 0 <= x_5_C <= 1\n",
            " 0 <= x_5_D <= 1\n",
            " 0 <= x_5_E <= 1\n",
            " 0 <= x_5_F <= 1\n",
            " 0 <= x_6_A <= 1\n",
            " 0 <= x_6_B <= 1\n",
            " 0 <= x_6_C <= 1\n",
            " 0 <= x_6_D <= 1\n",
            " 0 <= x_6_E <= 1\n",
            " 0 <= x_6_F <= 1\n",
            " 0 <= y_1 <= 1\n",
            " 0 <= y_2 <= 1\n",
            " 0 <= y_3 <= 1\n",
            " 0 <= y_4 <= 1\n",
            " 0 <= y_5 <= 1\n",
            " 0 <= y_6 <= 1\n",
            "Integers\n",
            "x_1_A x_1_B x_1_C x_1_D x_1_E x_1_F x_2_A x_2_B x_2_C x_2_D \n",
            "x_2_E x_2_F x_3_A x_3_B x_3_C x_3_D x_3_E x_3_F x_4_A x_4_B \n",
            "x_4_C x_4_D x_4_E x_4_F x_5_A x_5_B x_5_C x_5_D x_5_E x_5_F \n",
            "x_6_A x_6_B x_6_C x_6_D x_6_E x_6_F y_1 y_2 y_3 y_4 \n",
            "y_5 y_6 \n",
            "End\n",
            "\n"
          ]
        }
      ]
    },
    {
      "cell_type": "code",
      "source": [
        "status = model.optimize()\n",
        "\n",
        "print(f\"Status = {status}\\n\")\n",
        "if status == OptimizationStatus.OPTIMAL:\n",
        "  print(f\"São necessários no mínimo {int(model.objective_value)} dias para realizar as provas.\\n\")\n",
        "\n",
        "  day = 1\n",
        "  for d in D:\n",
        "    if int(y[d].x) == 1:\n",
        "      print(f\"Dia {day}: \", \", \".join([m for m in M if int(x[d][m].x) == 1]))\n",
        "      day += 1"
      ],
      "metadata": {
        "colab": {
          "base_uri": "https://localhost:8080/"
        },
        "id": "hpkM_kZ1qthr",
        "outputId": "9a602d92-7578-4e30-d101-e9cb41276082"
      },
      "execution_count": null,
      "outputs": [
        {
          "output_type": "stream",
          "name": "stdout",
          "text": [
            "Status = OptimizationStatus.OPTIMAL\n",
            "\n",
            "São necessários no mínimo 3 dias para realizar as provas.\n",
            "\n",
            "Dia 1:  E, F\n",
            "Dia 2:  A, D\n",
            "Dia 3:  B, C\n"
          ]
        }
      ]
    }
  ]
}