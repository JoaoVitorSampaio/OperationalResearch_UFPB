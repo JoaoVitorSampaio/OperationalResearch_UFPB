{
  "cells": [
    {
      "cell_type": "markdown",
      "metadata": {
        "id": "bM2vauLF1nqI"
      },
      "source": [
        "# Lista de exercicios: quantificador universal e somatórios"
      ]
    },
    {
      "cell_type": "markdown",
      "metadata": {
        "id": "AMZIuotO1yaq"
      },
      "source": [
        "1. Consider the sets A = {1, 2, 3, 4, 5} and B = {3, 4, 5, 6, 7, 8}. Write a program that prints the constraints, “in full”, for each item below:\n",
        "\n",
        "\n"
      ]
    },
    {
      "cell_type": "markdown",
      "metadata": {
        "id": "_EUlFjdF8xP9"
      },
      "source": [
        "![image.png](data:image/png;base64,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)"
      ]
    },
    {
      "cell_type": "code",
      "execution_count": null,
      "metadata": {
        "id": "OuTlW5vw2PcR"
      },
      "outputs": [],
      "source": [
        "A = [1, 2, 3, 4, 5]\n",
        "B = [3, 4, 5, 6, 7, 8]"
      ]
    },
    {
      "cell_type": "code",
      "execution_count": null,
      "metadata": {
        "colab": {
          "base_uri": "https://localhost:8080/"
        },
        "id": "Nt6pbIxu1cmP",
        "outputId": "d039e6a2-fa0b-4192-8561-ccd117cda20e"
      },
      "outputs": [
        {
          "name": "stdout",
          "output_type": "stream",
          "text": [
            "I.\n",
            "x_1 <= 50\n",
            "x_2 <= 50\n",
            "x_3 <= 50\n",
            "x_4 <= 50\n",
            "x_5 <= 50\n"
          ]
        }
      ],
      "source": [
        "# Item 1:\n",
        "print(\"I.\")\n",
        "for i in A:\n",
        "  print(f\"x_{i} <= 50\")"
      ]
    },
    {
      "cell_type": "markdown",
      "metadata": {
        "id": "17u4Cf2v2Wyy"
      },
      "source": [
        "![image.png](data:image/png;base64,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)\n"
      ]
    },
    {
      "cell_type": "code",
      "execution_count": null,
      "metadata": {
        "colab": {
          "base_uri": "https://localhost:8080/"
        },
        "id": "2b0rCWtI2Z_J",
        "outputId": "25e15f5b-074c-4336-fc6b-1fd83c45c496"
      },
      "outputs": [
        {
          "name": "stdout",
          "output_type": "stream",
          "text": [
            "II.\n",
            "x_4 <= 50\n",
            "x_5 <= 50\n"
          ]
        }
      ],
      "source": [
        "# Item 2:\n",
        "print(\"II.\")\n",
        "for i in A:\n",
        "  if i > 3:\n",
        "    print(f\"x_{i} <= 50\")"
      ]
    },
    {
      "cell_type": "markdown",
      "metadata": {
        "id": "jpy_SPzb2wIh"
      },
      "source": [
        "![image.png](data:image/png;base64,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)"
      ]
    },
    {
      "cell_type": "code",
      "execution_count": null,
      "metadata": {
        "colab": {
          "base_uri": "https://localhost:8080/"
        },
        "id": "dcaid_c02woq",
        "outputId": "da3b6718-1ff9-468d-a8c9-e1f161c62cbc"
      },
      "outputs": [
        {
          "name": "stdout",
          "output_type": "stream",
          "text": [
            "III.\n",
            "+ x_1 + x_2 + x_3 + x_4 + x_5 >= 2\n"
          ]
        }
      ],
      "source": [
        "# Item 3:\n",
        "print(\"III.\")\n",
        "soma_x = \"\"\n",
        "for i in A:\n",
        "  soma_x += f\"+ x_{i} \"\n",
        "print(f\"{soma_x}>= 2\")\n"
      ]
    },
    {
      "cell_type": "markdown",
      "metadata": {
        "id": "lulzZIlJ4Q7J"
      },
      "source": [
        "![image.png](data:image/png;base64,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)"
      ]
    },
    {
      "cell_type": "code",
      "execution_count": null,
      "metadata": {
        "colab": {
          "base_uri": "https://localhost:8080/"
        },
        "id": "ztdFsv9g4vEe",
        "outputId": "71716188-1c52-42e8-9e50-021c4b2ac77e"
      },
      "outputs": [
        {
          "name": "stdout",
          "output_type": "stream",
          "text": [
            "IV.\n",
            "+ x_1 + x_2 + x_3 + x_4 = 5\n"
          ]
        }
      ],
      "source": [
        "print(\"IV.\")\n",
        "soma_x = \"\"\n",
        "for i in A:\n",
        "  if i <= 4:\n",
        "    soma_x += f\"+ x_{i} \"\n",
        "print(f\"{soma_x}= 5\")\n"
      ]
    },
    {
      "cell_type": "markdown",
      "metadata": {
        "id": "YqqAeE-I53II"
      },
      "source": [
        "![image.png](data:image/png;base64,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)\n"
      ]
    },
    {
      "cell_type": "code",
      "execution_count": null,
      "metadata": {
        "colab": {
          "base_uri": "https://localhost:8080/"
        },
        "id": "KnOQYrqj6HXu",
        "outputId": "de9a4418-a1fb-4133-8e91-af379c7bd2f1"
      },
      "outputs": [
        {
          "name": "stdout",
          "output_type": "stream",
          "text": [
            "V.\n",
            "y_3 <= + x_1 + x_2 + x_3 + x_4 + x_5 \n",
            "y_4 <= + x_1 + x_2 + x_3 + x_4 + x_5 \n",
            "y_5 <= + x_1 + x_2 + x_3 + x_4 + x_5 \n",
            "y_6 <= + x_1 + x_2 + x_3 + x_4 + x_5 \n",
            "y_7 <= + x_1 + x_2 + x_3 + x_4 + x_5 \n",
            "y_8 <= + x_1 + x_2 + x_3 + x_4 + x_5 \n"
          ]
        }
      ],
      "source": [
        "# Item 5:\n",
        "print(\"V.\")\n",
        "restr = \"\"\n",
        "for j in B:\n",
        "  restr = f\"y_{j} <= \"\n",
        "  soma_x = \"\"\n",
        "  for i in A:\n",
        "    soma_x += f\"+ x_{i} \"\n",
        "  restr += soma_x\n",
        "  print(restr)"
      ]
    },
    {
      "cell_type": "markdown",
      "metadata": {
        "id": "P2Hoe1cQ7r50"
      },
      "source": [
        "![image.png](data:image/png;base64,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)"
      ]
    },
    {
      "cell_type": "code",
      "execution_count": null,
      "metadata": {
        "colab": {
          "base_uri": "https://localhost:8080/"
        },
        "id": "w4dLYdj28sYI",
        "outputId": "5bb682f6-baee-4ed3-d45e-1172e2cf4adb"
      },
      "outputs": [
        {
          "name": "stdout",
          "output_type": "stream",
          "text": [
            "VI.\n"
          ]
        }
      ],
      "source": [
        "''' Nada será exibido, pois\n",
        "todos os valores de j são\n",
        "maiores ou iguais a 3. '''\n",
        "\n",
        "print(\"VI.\")\n",
        "for j in B:\n",
        "  restr = \"\"\n",
        "  if j < 3:\n",
        "    restr = f\"y_{j} = \"\n",
        "    sum_x = \"\"\n",
        "    for i in A:\n",
        "      if i < 2:\n",
        "        sum_x += f\"+ x_{i} \"\n",
        "    restr += sum_x\n",
        "    print(restr)\n"
      ]
    },
    {
      "cell_type": "markdown",
      "metadata": {
        "id": "lPQ0R0z7e5du"
      },
      "source": [
        "![image.png](data:image/png;base64,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)"
      ]
    },
    {
      "cell_type": "code",
      "execution_count": 3,
      "metadata": {
        "colab": {
          "base_uri": "https://localhost:8080/"
        },
        "id": "_n4Mt4oae99r",
        "outputId": "5f7c3b5b-1b90-426a-cf5a-1ab89c926201"
      },
      "outputs": [
        {
          "name": "stdout",
          "output_type": "stream",
          "text": [
            "VII.\n",
            "z_13 >= 20\n",
            "z_14 >= 20\n",
            "z_15 >= 20\n",
            "z_16 >= 20\n",
            "z_17 >= 20\n",
            "z_18 >= 20\n",
            "z_23 >= 20\n",
            "z_24 >= 20\n",
            "z_25 >= 20\n",
            "z_26 >= 20\n",
            "z_27 >= 20\n",
            "z_28 >= 20\n",
            "z_34 >= 20\n",
            "z_35 >= 20\n",
            "z_36 >= 20\n",
            "z_37 >= 20\n",
            "z_38 >= 20\n",
            "z_45 >= 20\n",
            "z_46 >= 20\n",
            "z_47 >= 20\n",
            "z_48 >= 20\n",
            "z_56 >= 20\n",
            "z_57 >= 20\n",
            "z_58 >= 20\n"
          ]
        }
      ],
      "source": [
        "print(\"VII.\")\n",
        "for i in A:\n",
        "  for j in B:\n",
        "    if i < j:\n",
        "      print(f\"z_{i}{j} >= 20\")"
      ]
    },
    {
      "cell_type": "markdown",
      "metadata": {
        "id": "9pWSC9Flf106"
      },
      "source": [
        "![image.png](data:image/png;base64,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)"
      ]
    },
    {
      "cell_type": "code",
      "execution_count": 4,
      "metadata": {
        "colab": {
          "base_uri": "https://localhost:8080/"
        },
        "id": "HIYk_eqKf2Je",
        "outputId": "cc7efe04-263b-4912-ff74-14a2b08448b3"
      },
      "outputs": [
        {
          "name": "stdout",
          "output_type": "stream",
          "text": [
            "VIII.\n",
            "+ z13 + z14 + z15 + z16 + z17 + z18 = 100\n",
            "+ z23 + z24 + z25 + z26 + z27 + z28 = 100\n",
            "+ z33 + z34 + z35 + z36 + z37 + z38 = 100\n",
            "+ z43 + z44 + z45 + z46 + z47 + z48 = 100\n",
            "+ z53 + z54 + z55 + z56 + z57 + z58 = 100\n"
          ]
        }
      ],
      "source": [
        "print(\"VIII.\")\n",
        "for i in A:\n",
        "  soma_x = \"\"\n",
        "  for j in B:\n",
        "    soma_x += f\"+ z{i}{j} \"\n",
        "  print(f\"{soma_x}= 100\")\n"
      ]
    },
    {
      "cell_type": "markdown",
      "metadata": {
        "id": "KQ9jF1sOhzbJ"
      },
      "source": [
        "![image.png](data:image/png;base64,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)"
      ]
    },
    {
      "cell_type": "code",
      "execution_count": 5,
      "metadata": {
        "colab": {
          "base_uri": "https://localhost:8080/"
        },
        "id": "sfXN0k3mh5Vs",
        "outputId": "076aada3-77a0-454c-8cdf-8c715462f472"
      },
      "outputs": [
        {
          "name": "stdout",
          "output_type": "stream",
          "text": [
            "IX.\n",
            "<= 12\n"
          ]
        }
      ],
      "source": [
        "''' O LHS da restrição será zero,\n",
        "pois todos os valores em A são\n",
        "menores ou iguais a 5.'''\n",
        "\n",
        "print(\"IX.\")\n",
        "soma_z = \"\"\n",
        "for j in B:\n",
        "  for i in A:\n",
        "    if i > 5:\n",
        "      soma_z += f\"+ z_{i}{j} \"\n",
        "print(f\"{soma_z}<= 12\")"
      ]
    },
    {
      "cell_type": "markdown",
      "metadata": {
        "id": "-ICHqBdTjF5q"
      },
      "source": [
        "![image.png](data:image/png;base64,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)"
      ]
    },
    {
      "cell_type": "code",
      "execution_count": 6,
      "metadata": {
        "colab": {
          "base_uri": "https://localhost:8080/"
        },
        "id": "zJ0AZBYsjKGU",
        "outputId": "60686676-a065-40c5-c570-5ec3012f1cd0"
      },
      "outputs": [
        {
          "name": "stdout",
          "output_type": "stream",
          "text": [
            "X.\n",
            "+ z_13 + z_14 + z_15 + z_16 + z_17 + z_18 <= 12\n",
            "+ z_34 + z_35 + z_36 + z_37 + z_38 <= 12\n",
            "+ z_45 + z_46 + z_47 + z_48 <= 12\n",
            "+ z_56 + z_57 + z_58 <= 12\n"
          ]
        }
      ],
      "source": [
        "print(\"X.\")\n",
        "for i in A:\n",
        "  if i != 2:\n",
        "    soma_z = \"\"\n",
        "    for j in B:\n",
        "      if j > i:\n",
        "        soma_z += f\"+ z_{i}{j} \"\n",
        "    print(f\"{soma_z}<= 12\")\n"
      ]
    },
    {
      "cell_type": "markdown",
      "metadata": {
        "id": "TI8Z2uRwkZrc"
      },
      "source": [
        "![image.png](data:image/png;base64,iVBORw0KGgoAAAANSUhEUgAAAQgAAABCCAYAAACrQkhBAAAAAXNSR0IArs4c6QAAAARnQU1BAACxjwv8YQUAAAAJcEhZcwAADsMAAA7DAcdvqGQAABXDSURBVHhe7d1pWFPXugfwN2GIVRCk4tzWEWeqpdSxArZVFFsHnC5oa+uAM17BI8UeFJy14tSqFcEJqdoi4qnDLagUlOLwKKg4ggpHQCgBZDCJ2Tv/+wGEEAgkkADi+j1Pvuwh2Wu9ybvXWnuvHQEAEMMwTCWEqgsYhmFeYwmCYRi1WIJgGEYtliAYhlGLJQiGYdRiCYJhGLVYgmAYRi2WIBiGUYslCIZh1GIJgmEYtViCYBhGLZYgGIZRiyUIhmHUYgmCYRi1WIJgGEYtliAYhlGLJQiGYdRiCYJhGLUEjfmRc1zCKhpg60c3FWb0fu+O1EJtOgQpuFckLXpBWWnP6cUrBb2uFIGpI+2+d5rc2qvdWX+4BFo1wJb8birI7P3e1FF9AQgKjl5Ji+hFVho9f/GKFGUFIMfd9+i0W3t2NqiNtzQW2iWIlxdpw5wAuiMwJKGgbDF4jhQdxtLadVOoY8H/0eqFB+lByTZQ8MRxcjKwWUSByz4lkTSKNs7+hW7BkAzKvYmCeF5AvWfuJu/PTMqW14Yik8JmDqIph8T0yeooivTuT01Ut1El+4cexl+nKxdPUXBQCEUmycluayJFuHciA9Vt9U5BmWEzadCUQyT+ZDVFRXpT/+oLQP88jKfrVy7SqeAgColMIrndVkqMcKdOdV+ARuQtjQW0IU/B36fCEPa7P6Z2NoKACCRogj4zdyPs4j3kAYD0MWJ+O4B1k6wgMu2PbzcH4dffQhEelwoOALiS9zgRiNl9jEBEIKM+mLXvBMLCTiH2qUz1U2snJwKLe4kgeKcflkfnq66tmuQRQt0/QeshG3CPU11ZV3IQsbgXRIJ30G95NLQrgQSPQt3xSesh2FB/BdA72bWf4b4iCLHpOv7uVPD2xUK7BKEk9/z/oo9IACKCsOUo7HogL13HPzsKl45tMXr3fZQtVcE/hf8w45IE8Sm2POFVt9CZwr//DZtmQhhZzcWZbC0/h89A2Gxn+CWoLYn+Ff6Nf9s0g9DICnPPZEO7EvDICJsNZ78E9bF400meIHLnQoz80Bqfz9uGc0mFqlvozlsWixonCKAQcT62MBEQiIQw+3QD4qUA5Pfw08g26PLN70ivqvbqMEEAUiRssoO50BDvux5DmpYfxaeeQGB4uuriOiVN2AQ7cyEM33fFMe0LgBOB4VXHozGQP8eVg95wtu2DIdP8cDxBXNxq1bG3KRa1SBAAZLew2d4cQiKQoClsvM/jos8AWPbzxMU81Y1V1GmCAMAl4RenVhAKW+PLgCS9fHH0i0PSL05oJRSi9ZcBSHrzClB3+DzcPbkB39n3hc24Zdh3KQ267Xy8PbGoXYIAwCXtxZhWQhARBIYiNGlpj43xUtXNKqrrBAGAfxaCqR0MITR3wI+3dfuVqRP8M4RM7QBDoTkcfryt4y+9bvHiy/h5/lg4fD4Tv8QXFS9LO4WdwYmqm+qRBCkXd2OJ00fo9/lcbD2bBJ11PuoqFnwmoveuge8PCzB/UxSylH4mvPgSdq3ch6s6K1RFtU4QAI9nIVPRwaB4PMLgg29w4rkGP/Z6SBAAj6w/5qCbkQDNbH0Qp8eK1Rc+6w/M6WYEQTNb+DTUAsjvYcdYGzi4zMJ3zg7o99EYeG5Zj3kunjiZURdxVsUh63oIfKYOgvUQV6w+lQQNTmHV0n8sOCTv94Tv+RxwKdtgbzIQ6++/bq7weL53FEzMxiM4V2U3HdJBggAguQyPHobFP3YyQDvnQ0iprtlVLwkCAPIQ5WmNJgIRertHQo91qzd5UZ6wbiKAqLc7IhtgAfhn4QgKf1Y2gCdPxhF3N/xU0pIoJc3AgyR14wQSPLv/GHk6+lrweYkIWzcDg3v0w4QNfyFHR++r11jILsPHPQDPeCD32FS0NB2J3aVjHoUIm26JJsP8UfGno7u600GCyEeMlw1a2UzE+N5Nii99ClvC8ecHVY/U1luCAFB0DX4DTSE06oyZ4ZlajkQ3BEW45jcQpkIjdJ4ZjsyGXAB5CsJXe2HvNdWLgjxSdn6B9qN24UklGYJLXIvBHSYhuJaFk2XE4cD3E2Dbdyi+XvM7busqM5TSYywK4xFzLRdAFg5PsIDZmH0obYDJLmGplQh9V1yr8DvTVd2h9gmCR0bYTHRrMwI77spQdM0PA01LLn2afYoNVY1F1GeCACC76g3r5tbwuKDrtF9HZFfhbd0c1h4XGm4rqCAeQV7eOHxHpeWgRF9RL0r+EzsWjET//o5YtDMSj9UfQu3pORZ85n6MNTfH+INZpcu4++swUNQBc85V8RvTgVolCHlSAL5q/wGmhqSWBFqGxK3D0UJIIBKgqc0KxKrrmmmSIOT5yMlXzY86wD3BoSkfwWlnov4Gl/SKw5NDU/CR004kNtAC8OIY7PjXOvyRqtQ84PmyhCDJxvNcNQcvFSM9q6gGyYNHzq3fsHr6UFgPnIwfDl9Fph6+PuXpPxb5x6bAwmQU9paO7fHIDBgNE/MJFccfalx3lat5gii6hjVDLNFr4TmIlY+Ge4zAsW1gQAQSiNBrcQRylFaXqiZBcI8PYPIHIghFHTHl4BM1/dSaKECcrz1s3U5Bk7HUhqggzhf2tm441UALwGddwEaPrYhR/mJwT7Bv7gpESHlkRW6F9wZ/zBk6FGtuKP+CZXh0YjPW7TqE9ZM+xsQgTeMuQ9qlfVg27mP0c5iFTafuaXmXY83pPxZy3PTphyZ9V+BaaVUVjz+847AdKaUfW9O6q1rNEoT0GcLn90bznotxvpL7Hfi043B93xACIgiMOuHbsOcVM1o1CSLvwFd4R1DSEhl7UEcB55EW+h1sPtuAG/pscuoRnxaK72w+w4aGWgDJDWwa0R+Oc5dg0b+24MifV3Hryin4zxgKp023IZddwXqPADwuvIhFVp0xL7KsiSxP3AXvn+9ABikuLOyKrgsvanS1QXbZF+PGe2Jv9DONtteVuokFh+Qfh6KZjS9ulyQI7kkgxrYyxof/vlk6/lDTuquOVgmi6Kgr2pg3h0kzE5g2b47mpqYwNWuNCUFlfSPZ5e9h06Y1WlmYoXnz5sUvi1Zo17YNuswKh6QgBP/TvhXatGsHyxYl65u3gGW7dmjbuj0mHRQDAPj0MCy0sYSppQ0WncyomGBqQJKwBSNspuNYqrbvJodUqot8XEuSBGwZYYPpx1536TQnl0p1ckapWiEu+X0Hn4ti8CjEzR1OaG8ogEDUGgMXheIpB4DPhzhHhvzwGXivx/8iRulbzBeIkSMDwCVitW1LTKjQfm5A6jAWfPY5LBs8CF/v+B2hQZvw/TeD0MrofcyNKKs8fdWdVgniTcZnncHCAcPgc1n7tkhR1AosDkhTXVy3+CycWTgAw3wua9+aKorCisUBWt9irj0psrPylH4wHHIfJyI5R2UggM9CsHMb2KxMgKwoBzkSldUZe+Bo7oBtZe3nhqU+YsHl4mn8NdxKzcWDzUPRpO0MhBeobqT7uns7EoT8Pn4ZawPnoGStMjcA8FnnsGSwMwLq9eZ5Oe7/MhY2zkFI1r4AOLdkMJwD0rU+0+lN1n58ZWkH/2Qp7uxYif0qLbrCUFe06fcDyg1PVEmOwlwxsrOzq3+JxciX1qYm6jIWHJIPfIN+3cdj7+trwZI4eFmbw9b3RqUD7NrXXdXeggSRi7+8hmCQx3ktb46RIS16G1x6mpa//lwPcv/ywpBBHjivXQEgS4vGNpeeMDUbg331WQBVeacxz2YUPP194HMgAeV78DJEu1uho9ufGvehZbEbMcHBHnZ2dtW/7O0xcslvNZ4sVbexkCBsRg/YuGzD34UAkIuYFYNg9eXPuFNp5Whfd9XR7oExbxyenga70sitluS3awZ1NVRdXwa8nKRFeZSdkUpJ9+LpyoUzdDYulYrQnL4KfEhh37aql6cA8U+DyXXkVrL020Uzqi4AyaVFlJedQalJ9yj+ygU6czaOUotAzb8KpIdh31Kr+iiAOi//oecyM2rTwrj8cj6RVg8aTreXPqTjU83Kr6tn9RGLgit7aO3JXGpjqaDM5MdU2PVr8l5kR20r+3g91F2jThCK9CM0fdgSOperUF2lMYGpI+24dphcLDWMqC4p0unI9GG05Fwu1bgEAlNy3HGNDrtY1kuC0wh3k7ZN9qJs93DykHuSg4cRbbm0lT4zVd2wHtVrLDh6WcRTk2aiivvpue4adYJg3hD8Azow34+ut+9Konxzclq6mIa3e1OeyVbP9Fx3LEEwDKNWhRYLwzDMa422BSF7/pCeGXehLha6am69ojvbJtEP/AYK9eip2ROupWn0IMOEuneq6YCRjBKOrKOQhJekIAEJhQYlTxM3oKaWXcjWaSI5dte8sylNe0AZJt2ok1ktzwuy5/TwmTF16WKhWT288aSU9iCDTLp1oppWnSzhCK0LSaCXCiKBUFj6RHeDppbUxdaJJjp2J80jWYfKX9RoJPgU7PyiPUbtquJ+dE6Cgvw85OXlo1CD6+LyezsxoqUB3p0eBpX7etTgkLh2MDpMClZdUQ4nKUB+Xh7y8gtR+WFIcWmpFZoN24LHrwvDFyElwhtDLDtj+tE0za6pc4lYO7gDJgVnli7ieY32VFH1NO3GSJPp09XHEZBeWgqrZsOwpSyQKEqJgPcQS3SeflT7m6fqQKNtQRApKvagFJl0ec8a2n4uhSRkQKImRiQkARl1cqYjGyeX31YZn0xBK45S+n9/ojWpnnQvyqNW/2ugyLxMe9Zsp3MpEiIDETUxEhIJjKiT81raOLlj+Y35J+Q/vC8dcYilK6usqfTqliKFtg23olWtD1P6scnUtPxe1VNkUpjHNNqdY0duyxbS+D7mqrVVpUpq962jVRyJpyf+w6nvEQeKvbKKrMsCSSnbhpPVqtZ0OP0YTdY6kHqmmjEaA0n2c1SYScw9xdFZX2DKj38hXau7zDg8PuiF9dG5uLduAETvz4XSLfBqScXpyCqqeErgnh7FrC+m4Me/0is86KNS4oMYZ94JCy6U/1Dp7U2wf7czZoRWMhGuAinE6VmoeDgcsm+EwMf1c3w29QccvpalvsX1WlXTtBsjNdOntY4jxDg4zhydFlwofxOT9DY22b+LzjNCG+Ts4saVIPgsRG71xgb/ORg6dI3S7aY8MoKnw8n3uobdgzJ8yhF4r7mAPABFx6fAvMlI7ClrpVcke4QTm9dh16H1mPTxRAQpt8P5DARPd4Lvdc2PQnJ6JtqbjcSWq4lITLyD+MtnEeLviWkTZ2JjREqlt9sqkz06gc3rduHQ+kn4eGKQmm4Bj7y7J7Fh5igMd/ZAQKVPga5qmnZjVMX06RrEEZLTmNneDCO3XEViYiLuxF/G2RB/eE6biJkbI5BSscIbhEbVSnx1PZDOmsyihf1FlJWeRjl8yQpFNp0+JaPxczX46z1linQKDUimYfMdyIyIjDt3pfeQQsnJr1S3LMHR3cD9lDHKg+ZNHkCt8+LpxlOudK0i+zSdko2nudX/Z1uJV3QrJo7yevalD8SplJr6X8rIkxAnAHG8iFpaWpDKfYjlcXcpcH8GjfKYR5MHtKa8+BukdDhKhGTWcywt33eG/rPZkSS/zqfR4xbSzvNP6eXrTV5dp8CzJjRrYX8SZaVTWmnlNk7c3UDanzGKPOZNpgGt8yj+xlN6XXXax5Ho1a0YisvrSX0/EFNqair9NyOPJJyAwPEkamlJFlUGsv40qjEIRUEOvRAZUYxbb1reIoTi/YeSiIr/eHWl/WS6YNGDLJT+DrSYgIytXOi3zapjEArKDHOnGcGgD61MSUBEJL1DoT//RX33p1Goa2VjzgoqzHlBxhYtyODuGhpkd5PcH4WSq3nxWi5hJdlPvkAWPSyK30+ZwJisXDbTZuW+K/+YtjhY06+fx1GcT5+y8QeSUdTiXjT68jSKveJL/Sq77ZaISFFIOS+MyaKFAd1dM4jsbrrTo1BXKjmcKhXe3EFTv1pNEs9LdN69O5GigHJeiMgoxo16L29BIfH+NFSkulfjoSjMoRfGFtTC4C6tGWRHN90fUWhJILWOI/H0eIsDWf/6OcXF+VAfpXjJohZTr9GXaVrsFfJVG8h6pNqkeNPxWcFwbmODlQkyFOXkFHcp+OcImDQFSo+tqBaf/Qd8V6k8hFQWhUWdRbDxvV1Nv5NHxh5HmDtsU3riD8A/D8CkKUHQ+DDEBzDWvDMWXVQd9JDgnNt7MO6xDLGaNE35DOxxNIfDtpQKfWlVRU8isWPBl7AfPRs//vEA5WYUVzNNuzGqbPq01nGEGAfGmqPzoooPcZGcc8N7xj2wTKNA1r1G1cUgIhKfPk7R3V3p6+6PKHB7OP2jICKhJY0eY0gn9saTTHWHyvCpFLrhEvWYM6b8pBrDbtTtAwGlJieXNjcrJ6HYmHjqOGQYtVPaX2g5msYYnqC98RodBUn/jqHrRgPJ7mPlUzVHGRE+5BMqoqmrFtGA0qbpK7p3bCX9sP+m0rYlJLEUE9+Rhgxrp/bKQ8GD/9DmWaNotHs4CZ130tnTe8nDyYrK/c+6+DQdj+5Orl93p0eB2yn8nxrPSnhjSGJjKL7jEBqmFEht40jSvynmuhENtPu4uEVbgsuIIB+fUBJNXUWLygLZsKhmjDdd3ul5sBnlCX8fHxxIUJpIzD1G8LdfwGV7LDIrHahD8Zk/YgvcRvdCy/cc8P1/lJ4WxCXj5Nr5GGllClMrJyzeGF5+V2WyaLhbdYTbn6rnC4B7HIxvv3DB9thM9VcMuPv4fc1SuNq+C6O29pi93AteXl5YvnQR3GZMgOO4BfgpOqP8/nw2jrq0h3nHOcpLAQCyaHdYdXRDxcPhII4/ilXTPoO9878QGJteyeCkkiqnaTdG6qdPaxRHcLj/+xosdbXFu0ZtYT97Oby8vOC1fCkWuc3ABMdxWPBTNDLUv0G9a1RjEK+9/Oc5yczakOpMYuIzKGqnL+2ITCe5oTGZNDUmAQnIqNMEOrjWWWXjmuMTV9Og4bdp6cPjVNmsWz4jinb67qDIdDkZGptQU2NB8fXzCb601ln1+rk2OLq9Zw/1nbtQaRlPiasH0fDbS+nh8alUejiKTDrp4UI7s4bSLM/FNLn/u5rdFalumnZjVM30af3FsQFRzRhvDVkBcsTZyM4WI6ew6hEFTchvbMX4ESsQJclBxIIPYb0kUqPHkckKciDOzka2OAe1PoyCWPy0/U8ActzYOh4jVkRBkhOBBR9aY0lkxaPh5A341FVf5DewdfwIrIiSICdiAT60XoJKqq4CncaxAWmULYj6wD84QPP9rlP7riLKN3eipYuHkw5n3WpAQWmRYZRkPZ7sWoEeHJhPftfbU1dRPpk7LaXFw9tp1kJ42+l5+vSbhiUIhmHUUjeozTAMwxIEwzDqsQTBMIxaLEEwDKMWSxAMw6jFEgTDMGqxBMEwjFosQTAMoxZLEAzDqMUSBMMwav0/z2LpZCSuFcIAAAAASUVORK5CYII=)"
      ]
    },
    {
      "cell_type": "code",
      "execution_count": 7,
      "metadata": {
        "colab": {
          "base_uri": "https://localhost:8080/"
        },
        "id": "EnI1lrgtkeKZ",
        "outputId": "dfedfc5c-4326-4163-c5f8-1265f6e5e1a3"
      },
      "outputs": [
        {
          "name": "stdout",
          "output_type": "stream",
          "text": [
            "XI.\n",
            "+ z_13 + z_14 + z_15 + z_16 + z_17 + z_18 + z_23 + z_24 + z_25 + z_26 + z_27 + z_28 + z_34 + z_35 + z_36 + z_37 + z_38 + z_45 + z_46 + z_47 + z_48 + z_56 + z_57 + z_58  >= + y_3 + y_4 + y_5 + y_6 + y_7 + y_8 \n"
          ]
        }
      ],
      "source": [
        "print(\"XI.\")\n",
        "soma_z = \"\"\n",
        "for i in A:\n",
        "  for j in B:\n",
        "    if j > i:\n",
        "      soma_z += f\"+ z_{i}{j} \"\n",
        "soma_y = \"\"\n",
        "for j in B:\n",
        "  soma_y += f\"+ y_{j} \"\n",
        "print(f\"{soma_z} >= {soma_y}\")"
      ]
    },
    {
      "cell_type": "markdown",
      "metadata": {
        "id": "GAOeHBcklsZK"
      },
      "source": [
        "2. Write the general form of the constraints represented by the following code blocks:"
      ]
    },
    {
      "cell_type": "code",
      "execution_count": 12,
      "metadata": {
        "colab": {
          "base_uri": "https://localhost:8080/"
        },
        "id": "qWMC7LZMl-bz",
        "outputId": "6ecde309-d9e7-4a45-a030-a35aca128c23"
      },
      "outputs": [
        {
          "name": "stdout",
          "output_type": "stream",
          "text": [
            "x_5 <=40\n",
            "x_6 <=40\n",
            "x_7 <=40\n"
          ]
        }
      ],
      "source": [
        "A = [1, 2, 3, 4, 5, 6, 7]\n",
        "for i in A:\n",
        "  if i > 4:\n",
        "    print(\"x_\" + str(i) + \" \" + \"<=\" + \"40\")"
      ]
    },
    {
      "cell_type": "markdown",
      "metadata": {
        "id": "Ta5Xrqmzl_by"
      },
      "source": [
        "![image.png](data:image/png;base64,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)"
      ]
    },
    {
      "cell_type": "code",
      "execution_count": 11,
      "metadata": {
        "colab": {
          "base_uri": "https://localhost:8080/"
        },
        "id": "jRQP3N26tC_c",
        "outputId": "f4990adc-cca6-43d2-e378-bc04e96939d2"
      },
      "outputs": [
        {
          "name": "stdout",
          "output_type": "stream",
          "text": [
            "+ x_1 + x_2 + x_3 + x_4 <= 9\n"
          ]
        }
      ],
      "source": [
        "A = [1, 2, 3, 4]\n",
        "soma_x = \"\"\n",
        "for i in A:\n",
        "  soma_x += \"+ x_\" + str(i) + \" \"\n",
        "  restr = soma_x + \"<= 9\"\n",
        "print(restr)\n"
      ]
    },
    {
      "cell_type": "markdown",
      "metadata": {
        "id": "k7J3HMJ9uu9F"
      },
      "source": [
        "![image.png](data:image/png;base64,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)"
      ]
    },
    {
      "cell_type": "code",
      "execution_count": 8,
      "metadata": {
        "colab": {
          "base_uri": "https://localhost:8080/"
        },
        "id": "8um1r_gYunvx",
        "outputId": "66851af7-0d67-4687-9041-fd76543f4912"
      },
      "outputs": [
        {
          "name": "stdout",
          "output_type": "stream",
          "text": [
            "2y_8 = + x_1 + x_2 + x_3 + x_4 + x_5 + x_6 \n"
          ]
        }
      ],
      "source": [
        "A = [1, 2, 3, 4, 5, 6]\n",
        "B = [2, 4, 6, 8]\n",
        "for j in B:\n",
        "  soma_x = \"\"\n",
        "  for i in A:\n",
        "    soma_x += \"+ x_\" + str(i) + \" \"\n",
        "print(\"2y_\" + str(j) + \" = \" + soma_x)"
      ]
    },
    {
      "cell_type": "markdown",
      "metadata": {
        "id": "L2nbR-WOvH2y"
      },
      "source": [
        "![image.png](data:image/png;base64,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)"
      ]
    },
    {
      "cell_type": "code",
      "execution_count": 13,
      "metadata": {
        "id": "cKCrv8ZmvJer"
      },
      "outputs": [],
      "source": [
        "A = [1, 2, 3, 4]\n",
        "B = [4, 5, 6, 7, 8]\n",
        "for i in A:\n",
        "  for j in B:\n",
        "    if j < i:\n",
        "      print(\"z_\" + str(i) + str(j) + \" >= 120\")"
      ]
    },
    {
      "cell_type": "markdown",
      "metadata": {
        "id": "2S9k8E0uvnZF"
      },
      "source": [
        "![image.png](data:image/png;base64,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)"
      ]
    },
    {
      "cell_type": "code",
      "execution_count": 9,
      "metadata": {
        "colab": {
          "base_uri": "https://localhost:8080/"
        },
        "id": "Poc7LOmAvpL_",
        "outputId": "c3271213-1116-49ab-9dbe-8948ff139235"
      },
      "outputs": [
        {
          "name": "stdout",
          "output_type": "stream",
          "text": [
            "z_15 <= 10\n",
            "z_25 <= 10\n",
            "z_35 <= 10\n",
            "z_16 <= 10\n",
            "z_26 <= 10\n",
            "z_36 <= 10\n",
            "z_17 <= 10\n",
            "z_27 <= 10\n",
            "z_37 <= 10\n",
            "z_18 <= 10\n",
            "z_28 <= 10\n",
            "z_38 <= 10\n",
            "z_19 <= 10\n",
            "z_29 <= 10\n",
            "z_39 <= 10\n"
          ]
        }
      ],
      "source": [
        "A = [1, 2, 3, 4, 5]\n",
        "B = [5, 6, 7, 8, 9]\n",
        "for j in B:\n",
        "  for i in A:\n",
        "    if i < 4:\n",
        "      print(\"z_\" + str(i) + str(j) + \" \" + \"<= 10\")"
      ]
    },
    {
      "cell_type": "markdown",
      "metadata": {
        "id": "rCPXcaCUwa7Z"
      },
      "source": [
        "![image.png](data:image/png;base64,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)"
      ]
    },
    {
      "cell_type": "code",
      "execution_count": 14,
      "metadata": {
        "colab": {
          "base_uri": "https://localhost:8080/"
        },
        "id": "v6CjMIwQwcOG",
        "outputId": "a0f2d83e-1587-4626-841e-2a70eb466683"
      },
      "outputs": [
        {
          "name": "stdout",
          "output_type": "stream",
          "text": [
            "+ z_13 + z_14 + z_15 + z_16 + z_17 + z_18  >= 10y_1\n",
            "+ z_23 + z_24 + z_25 + z_26 + z_27 + z_28  >= 10y_2\n",
            "+ z_45 + z_46 + z_47 + z_48  >= 10y_4\n",
            "+ z_56 + z_57 + z_58  >= 10y_5\n"
          ]
        }
      ],
      "source": [
        "A = [1, 2, 3, 4, 5]\n",
        "B = [3, 4, 5, 6, 7, 8]\n",
        "for i in A:\n",
        "  if i != 3:\n",
        "    soma_z = \"\"\n",
        "    for j in B:\n",
        "      if j > i:\n",
        "        soma_z += \"+ z_\" + str(i) + str(j) + \" \"\n",
        "    print(soma_z + \" >= \" + \"10y_\" + str(i))\n"
      ]
    },
    {
      "cell_type": "markdown",
      "metadata": {
        "id": "SO5DkncSxKyA"
      },
      "source": [
        "![image.png](data:image/png;base64,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)"
      ]
    },
    {
      "cell_type": "code",
      "execution_count": 15,
      "metadata": {
        "colab": {
          "base_uri": "https://localhost:8080/"
        },
        "id": "JhyHDPmdxM6T",
        "outputId": "6048c625-c629-47a7-a6d5-a49247b708ab"
      },
      "outputs": [
        {
          "name": "stdout",
          "output_type": "stream",
          "text": [
            "+ z_11 + z_12 + z_13  >= y_3\n",
            "+ z_11 + z_12 + z_13  >= y_4\n",
            "+ z_11 + z_12 + z_13  >= y_5\n",
            "+ z_11 + z_12 + z_13  >= y_6\n",
            "+ z_11 + z_12 + z_13  >= y_7\n",
            "+ z_11 + z_12 + z_13  >= y_8\n",
            "+ z_21 + z_22 + z_23  >= y_3\n",
            "+ z_21 + z_22 + z_23  >= y_4\n",
            "+ z_21 + z_22 + z_23  >= y_5\n",
            "+ z_21 + z_22 + z_23  >= y_6\n",
            "+ z_21 + z_22 + z_23  >= y_7\n",
            "+ z_21 + z_22 + z_23  >= y_8\n",
            "+ z_41 + z_42 + z_43  >= y_3\n",
            "+ z_41 + z_42 + z_43  >= y_4\n",
            "+ z_41 + z_42 + z_43  >= y_5\n",
            "+ z_41 + z_42 + z_43  >= y_6\n",
            "+ z_41 + z_42 + z_43  >= y_7\n",
            "+ z_41 + z_42 + z_43  >= y_8\n",
            "+ z_51 + z_52 + z_53  >= y_3\n",
            "+ z_51 + z_52 + z_53  >= y_4\n",
            "+ z_51 + z_52 + z_53  >= y_5\n",
            "+ z_51 + z_52 + z_53  >= y_6\n",
            "+ z_51 + z_52 + z_53  >= y_7\n",
            "+ z_51 + z_52 + z_53  >= y_8\n"
          ]
        }
      ],
      "source": [
        "A = [1, 2, 3, 4, 5]\n",
        "B = [3, 4, 5, 6, 7, 8]\n",
        "C = [1,2,3]\n",
        "for i in A:\n",
        "  if i != 3:\n",
        "    for j in B:\n",
        "      soma_z = \"\"\n",
        "      for k in C:\n",
        "        soma_z += \"+ z_\" + str(i) + str(k) + \" \"\n",
        "      print(soma_z + \" >= \" + \"y_\" + str(j))"
      ]
    },
    {
      "cell_type": "markdown",
      "metadata": {
        "id": "Yc4CaMvexdmy"
      },
      "source": [
        "![image.png](data:image/png;base64,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)"
      ]
    }
  ],
  "metadata": {
    "colab": {
      "provenance": []
    },
    "kernelspec": {
      "display_name": "Python 3",
      "name": "python3"
    },
    "language_info": {
      "name": "python"
    }
  },
  "nbformat": 4,
  "nbformat_minor": 0
}
