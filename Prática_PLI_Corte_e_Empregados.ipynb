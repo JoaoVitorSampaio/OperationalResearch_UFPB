{
  "nbformat": 4,
  "nbformat_minor": 0,
  "metadata": {
    "colab": {
      "provenance": [],
      "include_colab_link": true
    },
    "kernelspec": {
      "name": "python3",
      "display_name": "Python 3"
    },
    "language_info": {
      "name": "python"
    }
  },
  "cells": [
    {
      "cell_type": "markdown",
      "metadata": {
        "id": "view-in-github",
        "colab_type": "text"
      },
      "source": [
        "<a href=\"https://colab.research.google.com/github/JoaoVitorSampaio/OperationalResearch_UFPB/blob/main/Pr%C3%A1tica_PLI_Corte_e_Empregados.ipynb\" target=\"_parent\"><img src=\"https://colab.research.google.com/assets/colab-badge.svg\" alt=\"Open In Colab\"/></a>"
      ]
    },
    {
      "cell_type": "markdown",
      "source": [
        "# Aula prática: Programação Linear Inteira"
      ],
      "metadata": {
        "id": "KkkfGB7mizn4"
      }
    },
    {
      "cell_type": "markdown",
      "source": [
        "## Exercício 1\n",
        "<sup>Exercício 3.7 do livro `Pesquisa Operacional` de `Arenales, Armentano, Morabito e Yanasse`.</sup>"
      ],
      "metadata": {
        "id": "6Pq0qYFUi66C"
      }
    },
    {
      "cell_type": "markdown",
      "source": [
        "### Descrição do problema\n",
        "Em cada dia da semana, uma loja requer um número de empregados em tempo integral, de acordo com a tabela abaixo. Cada empregado deve trabalhar cinco dias consecutivos e descansar dois. Cada empregado recebe R$30 por dia.\n",
        "\n",
        "| | Segunda | Terça | Quarta | Quinta | Sexta | Sabádo | Domingo |\n",
        "|:---|:---:|:---:|:---:|:---:|:---:|:---:|:---:|\n",
        "| Empregados | 10 | 6 | 8 | 5 | 9 | 4 | 6 |\n",
        "\n",
        "Determine o número de empregados em tempo integral de forma a minimizar a despesa total com salários."
      ],
      "metadata": {
        "id": "18u4P6_fjHTa"
      }
    },
    {
      "cell_type": "markdown",
      "source": [
        "### Resolução"
      ],
      "metadata": {
        "id": "EW2_LyQlkB9Y"
      }
    },
    {
      "cell_type": "code",
      "execution_count": null,
      "metadata": {
        "colab": {
          "base_uri": "https://localhost:8080/"
        },
        "id": "UToKjaulioTm",
        "outputId": "38fbf6e6-5c97-43e3-99a3-eccbb5b3c376"
      },
      "outputs": [
        {
          "output_type": "stream",
          "name": "stdout",
          "text": [
            "Looking in indexes: https://pypi.org/simple, https://us-python.pkg.dev/colab-wheels/public/simple/\n",
            "Requirement already satisfied: mip in /usr/local/lib/python3.7/dist-packages (1.14.1)\n",
            "Requirement already satisfied: cffi==1.15.0 in /usr/local/lib/python3.7/dist-packages (from mip) (1.15.0)\n",
            "Requirement already satisfied: pycparser in /usr/local/lib/python3.7/dist-packages (from cffi==1.15.0->mip) (2.21)\n"
          ]
        }
      ],
      "source": [
        "# instalação e importação do pacote mip\n",
        "!pip install mip\n",
        "from mip import *\n",
        "\n",
        "# funcões usadas posteriormente:\n",
        "\n",
        "# resolve o modelo e mostra os valores das variáveis\n",
        "def solve(model):\n",
        "  status = model.optimize()\n",
        "\n",
        "  print(\"Status = \", status)\n",
        "  print(f\"Solution value  = {model.objective_value:.2f}\\n\")\n",
        "\n",
        "  print(\"Solution:\")\n",
        "  for v in model.vars:\n",
        "      print(f\"{v.name} = {v.x:.2f}\")\n",
        "\n",
        "\n",
        "# salva modelo em arquivo lp, e mostra o conteúdo\n",
        "def save(model, filename):\n",
        "  model.write(filename) # salva modelo em arquivo\n",
        "  with open(filename, \"r\") as f: # lê e exibe conteúdo do arquivo\n",
        "    print(f.read())"
      ]
    },
    {
      "cell_type": "markdown",
      "source": [
        "#### Dados\n",
        "$D = \\{0, 1, 2, 3, 4, 5, 6\\}$: conjunto de dias \\\\\n",
        "$e_d$: quantidade mínima de empregados no dia $d \\in D$ \\\\\n",
        "$D^*_d$: conjunto de dias que antecedem o dia $d$ em, no máximo, 5 dias. Isto é, se um funcionário começar a trabalhar em um dia $p \\in D^*_d$, então ele também trabalhará no dia $d$. Observe que o próprio $d$ pertence a $D^*_d$.\n"
      ],
      "metadata": {
        "id": "vIN07gHAkNHQ"
      }
    },
    {
      "cell_type": "code",
      "source": [
        "D = range(7)\n",
        "e = [10, 6, 8, 5, 9, 4, 6]\n",
        "\n",
        "def Dstar(d):\n",
        "  p = d + 2  # before first day\n",
        "  for _ in range(5):\n",
        "    p = (p + 1) % 7\n",
        "    yield p\n",
        ""
      ],
      "metadata": {
        "id": "wlFt3_isodpp"
      },
      "execution_count": null,
      "outputs": []
    },
    {
      "cell_type": "markdown",
      "source": [
        "#### Variável\n",
        "$x_d$: quantidade de empregados que começam a trabalhar no dia $d \\in D$ \\\\\n",
        "\n",
        "#### Modelo\n",
        "\n",
        "$$\\min \\sum_{d \\in D} x_d$$\n",
        "s.t.\n",
        "$$\\sum_{p \\in D^*_d} x_p \\geq e_d; \\forall d \\in D$$\n",
        "$$x_d \\geq 0; \\forall d \\in D$$\n",
        "$$x_d \\in \\mathbb{Z}; \\forall d \\in D$$\n"
      ],
      "metadata": {
        "id": "q58nZ4IJoY__"
      }
    },
    {
      "cell_type": "code",
      "source": [
        "model = Model(sense=MINIMIZE, solver_name=CBC)\n",
        "\n",
        "x = [model.add_var(var_type=INTEGER, name=f\"x_{d}\", lb=0) for d in D]\n",
        "\n",
        "model.objective = xsum(x[d] for d in D)\n",
        "\n",
        "for d in D:\n",
        "  model += xsum(x[p] for p in Dstar(d)) >= e[d]\n",
        "\n",
        "save(model, \"model.lp\")"
      ],
      "metadata": {
        "colab": {
          "base_uri": "https://localhost:8080/"
        },
        "id": "zL3qpuLbkFDK",
        "outputId": "054b523c-b130-41d2-870e-882fe7e1bbaa"
      },
      "execution_count": null,
      "outputs": [
        {
          "output_type": "stream",
          "name": "stdout",
          "text": [
            "\\Problem name: \n",
            "\n",
            "Minimize\n",
            "OBJROW: x_0 + x_1 + x_2 + x_3 + x_4 + x_5 + x_6\n",
            "Subject To\n",
            "constr(0):  x_0 + x_3 + x_4 + x_5 + x_6 >= 10\n",
            "constr(1):  x_0 + x_1 + x_4 + x_5 + x_6 >= 6\n",
            "constr(2):  x_0 + x_1 + x_2 + x_5 + x_6 >= 8\n",
            "constr(3):  x_0 + x_1 + x_2 + x_3 + x_6 >= 5\n",
            "constr(4):  x_0 + x_1 + x_2 + x_3 + x_4 >= 9\n",
            "constr(5):  x_1 + x_2 + x_3 + x_4 + x_5 >= 4\n",
            "constr(6):  x_2 + x_3 + x_4 + x_5 + x_6 >= 6\n",
            "Bounds\n",
            "Integers\n",
            "x_0 x_1 x_2 x_3 x_4 x_5 x_6 \n",
            "End\n",
            "\n"
          ]
        }
      ]
    },
    {
      "cell_type": "code",
      "source": [
        "solve(model)"
      ],
      "metadata": {
        "colab": {
          "base_uri": "https://localhost:8080/"
        },
        "id": "hpkM_kZ1qthr",
        "outputId": "1584b46e-36e2-4bd4-98f0-16bdeb6b1874"
      },
      "execution_count": null,
      "outputs": [
        {
          "output_type": "stream",
          "name": "stdout",
          "text": [
            "Status =  OptimizationStatus.OPTIMAL\n",
            "Solution value  = 11.00\n",
            "\n",
            "Solution:\n",
            "x_0 = 5.00\n",
            "x_1 = 0.00\n",
            "x_2 = 1.00\n",
            "x_3 = 3.00\n",
            "x_4 = 0.00\n",
            "x_5 = 2.00\n",
            "x_6 = 0.00\n"
          ]
        }
      ]
    },
    {
      "cell_type": "markdown",
      "source": [
        "## Exercício 2\n",
        "<sup>Exercício da lista do Professor Marcone Jamilson (UFOP)</sup>"
      ],
      "metadata": {
        "id": "Bzy5FAyisRxv"
      }
    },
    {
      "cell_type": "markdown",
      "source": [
        "### Descrição do problema\n",
        "Uma serralheria dispõe de barras de 6 metros de comprimento que devem ser cortadas para obter barras menores nos seguintes tamanhos: 50 barras de 2 metros, 60 barras de 3 metros e 90 barras de 4 metros. Elabore um modelo de programação linear inteira que minimize as perdas com os cortes.\n",
        "\n",
        "Dica: enumere as possíveis formas de se cortar uma barra de 6 metros em barras menores dos tamanhos listados acima."
      ],
      "metadata": {
        "id": "ZhYAmS2fso88"
      }
    },
    {
      "cell_type": "markdown",
      "source": [
        "### Resolução"
      ],
      "metadata": {
        "id": "uSjlnbBgsy5M"
      }
    },
    {
      "cell_type": "markdown",
      "source": [
        "Neste exercício, precisaremos construir uma tabela, a partir das informações disponíveis no enunciado, que indique cada uma das maneiras de cortar a barra de 6 metros e quantas barras menores cada um desses cortes fornecerá:\n",
        "\n",
        "| | Barra 2m | Barra 3m | Barra 4m | Resto |\n",
        "|:---|:---:|:---:|:---:|:---:|\n",
        "| Corte 1 | 3 | 0 | 0 | 0 |\n",
        "| Corte 2 | 1 | 1 | 0 | 1 |\n",
        "| Corte 3 | 1 | 0 | 1 | 0 |\n",
        "| Corte 4 | 0 | 2 | 0 | 0 |"
      ],
      "metadata": {
        "id": "CNmmJbsZtCty"
      }
    },
    {
      "cell_type": "markdown",
      "source": [
        "#### Modelo\n",
        "\n",
        "$x_i$: quantidade do corte $i$ realizado. \\\\\n",
        "\n",
        "$$\\min x_1 + x_2 + x_3 + x_4$$\n",
        "s.t.\n",
        "\n",
        "$$3 x_1 + x_2 + x_3 \\geq 50$$\n",
        "$$x_2 + 2 x_4 \\geq 60$$\n",
        "$$x_3 \\geq 90$$\n",
        "$$x \\geq 0$$\n",
        "$$x \\in \\mathbb{Z}$$\n",
        "\n",
        "No modelo acima, $x$ é o vetor de variáveis, ou seja, $x=(x_1,x_2,x_3,x_4)$. Logo, as duas últimas restrições do modelo determinam que as quatro variáveis devem assumir valores inteiros não negativos."
      ],
      "metadata": {
        "id": "-eXB6pyqv8Jk"
      }
    },
    {
      "cell_type": "code",
      "source": [
        "model = Model(sense=MINIMIZE, solver_name=CBC)\n",
        "\n",
        "x = [None] + [model.add_var(var_type=INTEGER, name=f\"x_{i}\", lb=0) for i in range(1, 5)]\n",
        "\n",
        "model.objective = x[1] + x[2] + x[3] + x[4]\n",
        "\n",
        "model += 3*x[1] + x[2] + x[3] >= 50\n",
        "model += x[2] + 2*x[4] >= 60\n",
        "model += x[3] >= 90\n",
        "\n",
        "save(model, \"model2.lp\")"
      ],
      "metadata": {
        "colab": {
          "base_uri": "https://localhost:8080/"
        },
        "id": "ETrXdSVmsnIi",
        "outputId": "08e4230a-d17a-45f0-ccee-6e4a008de09e"
      },
      "execution_count": null,
      "outputs": [
        {
          "output_type": "stream",
          "name": "stdout",
          "text": [
            "\\Problem name: \n",
            "\n",
            "Minimize\n",
            "OBJROW: x_1 + x_2 + x_3 + x_4\n",
            "Subject To\n",
            "constr(0):  3 x_1 + x_2 + x_3 >= 50\n",
            "constr(1):  x_2 + 2 x_4 >= 60\n",
            "constr(2):  x_3 >= 90\n",
            "Bounds\n",
            "Integers\n",
            "x_1 x_2 x_3 x_4 \n",
            "End\n",
            "\n"
          ]
        }
      ]
    },
    {
      "cell_type": "code",
      "source": [
        "solve(model)"
      ],
      "metadata": {
        "colab": {
          "base_uri": "https://localhost:8080/"
        },
        "id": "ZRS3P0MtxQum",
        "outputId": "300dd7f9-b39e-4d43-aaf0-d80b8c058afc"
      },
      "execution_count": null,
      "outputs": [
        {
          "output_type": "stream",
          "name": "stdout",
          "text": [
            "Status =  OptimizationStatus.OPTIMAL\n",
            "Solution value  = 120.00\n",
            "\n",
            "Solution:\n",
            "x_1 = 0.00\n",
            "x_2 = 0.00\n",
            "x_3 = 90.00\n",
            "x_4 = 30.00\n"
          ]
        }
      ]
    },
    {
      "cell_type": "code",
      "source": [],
      "metadata": {
        "id": "nuQ9Ve2Xxd6V"
      },
      "execution_count": null,
      "outputs": []
    }
  ]
}